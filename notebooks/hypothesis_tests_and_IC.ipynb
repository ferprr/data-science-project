{
 "cells": [
  {
   "cell_type": "markdown",
   "metadata": {},
   "source": [
    "# Testes de Hipóteses"
   ]
  },
  {
   "cell_type": "code",
   "execution_count": 1,
   "metadata": {},
   "outputs": [],
   "source": [
    "import pandas as pd\n",
    "import matplotlib\n",
    "from matplotlib import pyplot as plt\n",
    "import matplotlib.ticker as ticker\n",
    "import numpy as np\n",
    "#from vega_datasets import data\n",
    "import seaborn as sns\n",
    "import scipy.stats as st\n",
    "sns.set()"
   ]
  },
  {
   "cell_type": "code",
   "execution_count": 2,
   "metadata": {},
   "outputs": [],
   "source": [
    "# Tamanho default das figuras\n",
    "matplotlib.rcParams['figure.figsize'] = (15.0, 9.0)"
   ]
  },
  {
   "cell_type": "code",
   "execution_count": 3,
   "metadata": {},
   "outputs": [
    {
     "data": {
      "text/html": [
       "<div>\n",
       "<style scoped>\n",
       "    .dataframe tbody tr th:only-of-type {\n",
       "        vertical-align: middle;\n",
       "    }\n",
       "\n",
       "    .dataframe tbody tr th {\n",
       "        vertical-align: top;\n",
       "    }\n",
       "\n",
       "    .dataframe thead th {\n",
       "        text-align: right;\n",
       "    }\n",
       "</style>\n",
       "<table border=\"1\" class=\"dataframe\">\n",
       "  <thead>\n",
       "    <tr style=\"text-align: right;\">\n",
       "      <th></th>\n",
       "      <th>school</th>\n",
       "      <th>sex</th>\n",
       "      <th>age</th>\n",
       "      <th>address</th>\n",
       "      <th>famsize</th>\n",
       "      <th>Pstatus</th>\n",
       "      <th>Medu</th>\n",
       "      <th>Fedu</th>\n",
       "      <th>Mjob</th>\n",
       "      <th>Fjob</th>\n",
       "      <th>...</th>\n",
       "      <th>famrel</th>\n",
       "      <th>freetime</th>\n",
       "      <th>goout</th>\n",
       "      <th>Dalc</th>\n",
       "      <th>Walc</th>\n",
       "      <th>health</th>\n",
       "      <th>absences</th>\n",
       "      <th>G1</th>\n",
       "      <th>G2</th>\n",
       "      <th>G3</th>\n",
       "    </tr>\n",
       "  </thead>\n",
       "  <tbody>\n",
       "    <tr>\n",
       "      <th>0</th>\n",
       "      <td>GP</td>\n",
       "      <td>F</td>\n",
       "      <td>18</td>\n",
       "      <td>U</td>\n",
       "      <td>GT3</td>\n",
       "      <td>A</td>\n",
       "      <td>4</td>\n",
       "      <td>4</td>\n",
       "      <td>at_home</td>\n",
       "      <td>teacher</td>\n",
       "      <td>...</td>\n",
       "      <td>4</td>\n",
       "      <td>3</td>\n",
       "      <td>4</td>\n",
       "      <td>1</td>\n",
       "      <td>1</td>\n",
       "      <td>3</td>\n",
       "      <td>6</td>\n",
       "      <td>5</td>\n",
       "      <td>6</td>\n",
       "      <td>6</td>\n",
       "    </tr>\n",
       "    <tr>\n",
       "      <th>1</th>\n",
       "      <td>GP</td>\n",
       "      <td>F</td>\n",
       "      <td>17</td>\n",
       "      <td>U</td>\n",
       "      <td>GT3</td>\n",
       "      <td>T</td>\n",
       "      <td>1</td>\n",
       "      <td>1</td>\n",
       "      <td>at_home</td>\n",
       "      <td>other</td>\n",
       "      <td>...</td>\n",
       "      <td>5</td>\n",
       "      <td>3</td>\n",
       "      <td>3</td>\n",
       "      <td>1</td>\n",
       "      <td>1</td>\n",
       "      <td>3</td>\n",
       "      <td>4</td>\n",
       "      <td>5</td>\n",
       "      <td>5</td>\n",
       "      <td>6</td>\n",
       "    </tr>\n",
       "    <tr>\n",
       "      <th>2</th>\n",
       "      <td>GP</td>\n",
       "      <td>F</td>\n",
       "      <td>15</td>\n",
       "      <td>U</td>\n",
       "      <td>LE3</td>\n",
       "      <td>T</td>\n",
       "      <td>1</td>\n",
       "      <td>1</td>\n",
       "      <td>at_home</td>\n",
       "      <td>other</td>\n",
       "      <td>...</td>\n",
       "      <td>4</td>\n",
       "      <td>3</td>\n",
       "      <td>2</td>\n",
       "      <td>2</td>\n",
       "      <td>3</td>\n",
       "      <td>3</td>\n",
       "      <td>10</td>\n",
       "      <td>7</td>\n",
       "      <td>8</td>\n",
       "      <td>10</td>\n",
       "    </tr>\n",
       "    <tr>\n",
       "      <th>3</th>\n",
       "      <td>GP</td>\n",
       "      <td>F</td>\n",
       "      <td>15</td>\n",
       "      <td>U</td>\n",
       "      <td>GT3</td>\n",
       "      <td>T</td>\n",
       "      <td>4</td>\n",
       "      <td>2</td>\n",
       "      <td>health</td>\n",
       "      <td>services</td>\n",
       "      <td>...</td>\n",
       "      <td>3</td>\n",
       "      <td>2</td>\n",
       "      <td>2</td>\n",
       "      <td>1</td>\n",
       "      <td>1</td>\n",
       "      <td>5</td>\n",
       "      <td>2</td>\n",
       "      <td>15</td>\n",
       "      <td>14</td>\n",
       "      <td>15</td>\n",
       "    </tr>\n",
       "    <tr>\n",
       "      <th>4</th>\n",
       "      <td>GP</td>\n",
       "      <td>F</td>\n",
       "      <td>16</td>\n",
       "      <td>U</td>\n",
       "      <td>GT3</td>\n",
       "      <td>T</td>\n",
       "      <td>3</td>\n",
       "      <td>3</td>\n",
       "      <td>other</td>\n",
       "      <td>other</td>\n",
       "      <td>...</td>\n",
       "      <td>4</td>\n",
       "      <td>3</td>\n",
       "      <td>2</td>\n",
       "      <td>1</td>\n",
       "      <td>2</td>\n",
       "      <td>5</td>\n",
       "      <td>4</td>\n",
       "      <td>6</td>\n",
       "      <td>10</td>\n",
       "      <td>10</td>\n",
       "    </tr>\n",
       "  </tbody>\n",
       "</table>\n",
       "<p>5 rows × 33 columns</p>\n",
       "</div>"
      ],
      "text/plain": [
       "  school sex  age address famsize Pstatus  Medu  Fedu     Mjob      Fjob  ...  \\\n",
       "0     GP   F   18       U     GT3       A     4     4  at_home   teacher  ...   \n",
       "1     GP   F   17       U     GT3       T     1     1  at_home     other  ...   \n",
       "2     GP   F   15       U     LE3       T     1     1  at_home     other  ...   \n",
       "3     GP   F   15       U     GT3       T     4     2   health  services  ...   \n",
       "4     GP   F   16       U     GT3       T     3     3    other     other  ...   \n",
       "\n",
       "  famrel freetime  goout  Dalc  Walc health absences  G1  G2  G3  \n",
       "0      4        3      4     1     1      3        6   5   6   6  \n",
       "1      5        3      3     1     1      3        4   5   5   6  \n",
       "2      4        3      2     2     3      3       10   7   8  10  \n",
       "3      3        2      2     1     1      5        2  15  14  15  \n",
       "4      4        3      2     1     2      5        4   6  10  10  \n",
       "\n",
       "[5 rows x 33 columns]"
      ]
     },
     "execution_count": 3,
     "metadata": {},
     "output_type": "execute_result"
    }
   ],
   "source": [
    "# Carregando dataset\n",
    "alcohol_consumption = pd.read_csv('../databases/student-mat.zip', compression='zip')\n",
    "alcohol_consumption.head()"
   ]
  },
  {
   "cell_type": "code",
   "execution_count": 4,
   "metadata": {},
   "outputs": [
    {
     "data": {
      "text/html": [
       "<div>\n",
       "<style scoped>\n",
       "    .dataframe tbody tr th:only-of-type {\n",
       "        vertical-align: middle;\n",
       "    }\n",
       "\n",
       "    .dataframe tbody tr th {\n",
       "        vertical-align: top;\n",
       "    }\n",
       "\n",
       "    .dataframe thead th {\n",
       "        text-align: right;\n",
       "    }\n",
       "</style>\n",
       "<table border=\"1\" class=\"dataframe\">\n",
       "  <thead>\n",
       "    <tr style=\"text-align: right;\">\n",
       "      <th></th>\n",
       "      <th>school</th>\n",
       "      <th>sex</th>\n",
       "      <th>age</th>\n",
       "      <th>address</th>\n",
       "      <th>famsize</th>\n",
       "      <th>Pstatus</th>\n",
       "      <th>Medu</th>\n",
       "      <th>Fedu</th>\n",
       "      <th>Mjob</th>\n",
       "      <th>Fjob</th>\n",
       "      <th>...</th>\n",
       "      <th>famrel</th>\n",
       "      <th>freetime</th>\n",
       "      <th>goout</th>\n",
       "      <th>Dalc</th>\n",
       "      <th>Walc</th>\n",
       "      <th>health</th>\n",
       "      <th>absences</th>\n",
       "      <th>G1</th>\n",
       "      <th>G2</th>\n",
       "      <th>G3</th>\n",
       "    </tr>\n",
       "  </thead>\n",
       "  <tbody>\n",
       "  </tbody>\n",
       "</table>\n",
       "<p>0 rows × 33 columns</p>\n",
       "</div>"
      ],
      "text/plain": [
       "Empty DataFrame\n",
       "Columns: [school, sex, age, address, famsize, Pstatus, Medu, Fedu, Mjob, Fjob, reason, guardian, traveltime, studytime, failures, schoolsup, famsup, paid, activities, nursery, higher, internet, romantic, famrel, freetime, goout, Dalc, Walc, health, absences, G1, G2, G3]\n",
       "Index: []\n",
       "\n",
       "[0 rows x 33 columns]"
      ]
     },
     "execution_count": 4,
     "metadata": {},
     "output_type": "execute_result"
    }
   ],
   "source": [
    "filtro = alcohol_consumption['Dalc'] == 0\n",
    "alcohol_consumption[filtro]\n",
    "#t_obs = data[filtro]['player_height'].mean() - data[~filtro]['player_height'].mean()"
   ]
  },
  {
   "cell_type": "markdown",
   "metadata": {},
   "source": [
    "# Teste 1\n",
    "\n",
    "Desejamos testar se há uma diferença significativa nas notas dos alunos que consomem álcool de 1-2 dias e dos que consomem a partir de 3 dias na semana, a um nível de significância de 5%.\n",
    "\n",
    "**Raciocínio:** \n",
    "- 1 - Definir as hipóteses nula e alternativa.\n",
    "- 2 - Encontrar a estatística de teste.\n",
    "- 3 - Resampling/Shuffle de acordo com a hipótese nula.\n",
    "- 4 - Encontrar os valores crítios/calcular o p-valor.\n",
    "- 5 - Concluir (rejeitar ou não a hipótese).\n",
    "\n",
    "    #### H0: μ1-2 = μ>=3\n",
    "\n",
    "    #### H1: μ1-2 ≠ μ>=3 \n",
    "\n",
    "        Ou ainda\n",
    "\n",
    "    #### H0: μ1-2 − μ>=3 = 0 \n",
    "\n",
    "    #### H1: μ1-2 − μ>=3 ≠ 0\n",
    "\n",
    "Hipótese nula: Média de notas dos alunos que consomem álcool de 1-2 dias é igual à dos que consomem a partir de 3 dias na semana\n",
    "\n",
    "Hipótese alternativa: Média de notas dos alunos que consomem álcool de 1-2 dias é diferente à dos que consomem a partir de 3 dias na semana"
   ]
  },
  {
   "cell_type": "code",
   "execution_count": null,
   "metadata": {},
   "outputs": [],
   "source": [
    "df1 = alcohol_consumption[alcohol_consumption['Dalc'] < 3]\n",
    "df1\n",
    "\n",
    "df_1_2 = (df1.groupby('age')\n",
    "              .agg({'G3': 'mean', 'Dalc': 'mean'}) \n",
    "              .reset_index()\n",
    "              .rename(columns={'Dalc':'alc_consump'}))\n",
    "\n",
    "df_1_2\n",
    "\n",
    "sns.lineplot(x='age', y='alc_consump', marker='o',\n",
    "                         data=df_1_2, label='Média de consumo de álcool', sort=False)\n",
    "sns.lineplot(x='age', y='G3', marker='o',\n",
    "                         data=df_1_2, label='Média de notas', sort=False)"
   ]
  },
  {
   "cell_type": "code",
   "execution_count": null,
   "metadata": {},
   "outputs": [],
   "source": [
    "df2 = alcohol_consumption[alcohol_consumption['Dalc'] > 2]\n",
    "df2\n",
    "\n",
    "df_3_4_5 = (df2.groupby('age')\n",
    "              .agg({'G3': 'mean', 'Dalc': 'mean'}) \n",
    "              .reset_index()\n",
    "              .rename(columns={'Dalc':'alc_consump'}))\n",
    "\n",
    "df_3_4_5\n",
    "\n",
    "sns.lineplot(x='age', y='alc_consump', marker='o',\n",
    "                         data=df_3_4_5, label='Média de consumo de álcool', sort=False)\n",
    "sns.lineplot(x='age', y='G3', marker='o',\n",
    "                         data=df_3_4_5, label='Média de notas', sort=False)"
   ]
  },
  {
   "cell_type": "code",
   "execution_count": null,
   "metadata": {},
   "outputs": [],
   "source": [
    "def t_obs():\n",
    "  # deve retornar o valor da estatística de teste\n",
    "  return df_3_4_5['G3'].mean() - df_1_2['G3'].mean()"
   ]
  },
  {
   "cell_type": "code",
   "execution_count": null,
   "metadata": {},
   "outputs": [],
   "source": [
    "result = t_obs()\n",
    "result"
   ]
  },
  {
   "cell_type": "code",
   "execution_count": null,
   "metadata": {},
   "outputs": [],
   "source": [
    "def shuffling(data):\n",
    "  N = 5000\n",
    "  filtro = data['G3']\n",
    "  t_obs2 = t_obs()\n",
    "  diffs = np.zeros(N)\n",
    "  for i in range(N):\n",
    "    np.random.seed(i)\n",
    "    np.random.shuffle(filtro.values)\n",
    "    diffs[i] = t_obs2\n",
    "  return diffs\n",
    "\n",
    "diffs = shuffling(alcohol_consumption)"
   ]
  },
  {
   "cell_type": "code",
   "execution_count": null,
   "metadata": {},
   "outputs": [],
   "source": [
    "def critical_values(diffs):\n",
    "  # deve retornar uma tupla com os valores criticos\n",
    "  # calculando percentis para um intervalo de 95% de confiança (5% de significância)\n",
    "  c_inf = np.percentile(diffs, 2.5)\n",
    "  c_sup = np.percentile(diffs, 97.5)\n",
    "  return (c_inf, c_sup)\n",
    "\n",
    "(c_inf, c_sup) = critical_values(diffs)"
   ]
  },
  {
   "cell_type": "code",
   "execution_count": null,
   "metadata": {},
   "outputs": [],
   "source": [
    "def p_value(t_obs, diffs):\n",
    "  # deve retornar o p-valor ou seja,\n",
    "  # a probabilidade de termos uma diferença maior que a estatística de teste\n",
    "\n",
    "  aux = 0\n",
    "  vetor = diffs > t_obs\n",
    "  for i in vetor:\n",
    "      if i == True:\n",
    "          aux += 1\n",
    "  pvalue = aux/len(diffs)\n",
    "  return pvalue\n",
    "\n",
    "result = t_obs()\n",
    "foo = p_value(result, diffs)"
   ]
  },
  {
   "cell_type": "code",
   "execution_count": null,
   "metadata": {},
   "outputs": [],
   "source": [
    "def resposta2(diffs, t_obs):\n",
    "  # Retorne True caso rejeite a hipótese nula e False caso não rejeite.\n",
    "  (c_inf, c_sup) = critical_values(diffs)\n",
    "  foo = p_value(t_obs, diffs)\n",
    "  return not c_inf <= foo <= c_sup\n",
    "\n",
    "resposta2(diffs, result)"
   ]
  },
  {
   "cell_type": "code",
   "execution_count": null,
   "metadata": {},
   "outputs": [],
   "source": [
    "# def ic(df, column):\n",
    "#     data = df[column]\n",
    "#     mean = data.mean()\n",
    "#     std = data.std(ddof=1)\n",
    "#     se = std / np.sqrt(len(data))\n",
    "    \n",
    "#     return (mean - 1.96 * se, mean + 1.96 * se)"
   ]
  },
  {
   "cell_type": "code",
   "execution_count": null,
   "metadata": {},
   "outputs": [],
   "source": [
    "# ic(df1, 'G3')"
   ]
  },
  {
   "cell_type": "code",
   "execution_count": null,
   "metadata": {},
   "outputs": [],
   "source": [
    "# ic(df2, 'G3')"
   ]
  },
  {
   "cell_type": "code",
   "execution_count": null,
   "metadata": {},
   "outputs": [],
   "source": [
    "# # Boostrap da diferenca das medias com amostras\n",
    "# def bootstrap_diff(df1=df1, df2=df2, column='G3', n=5000):\n",
    "#     '''\n",
    "#     df1: dataframe com consumo de álcool de 1-2 dias\n",
    "#     df2: dataframe com consumo de álcool a partir de 3 dias\n",
    "#     column: a coluna que queremos focar\n",
    "#     n: número de amostras para o bootstrap\n",
    "#     '''\n",
    "#     values = np.zeros(n)\n",
    "#     for i in range(n):\n",
    "#         sample1 = df1[column].sample(len(df1), replace=True)\n",
    "#         sample2 = df2[column].sample(len(df2), replace=True)\n",
    "#         values[i] = sample1.mean() - sample2.mean()\n",
    "#     return values"
   ]
  },
  {
   "cell_type": "code",
   "execution_count": null,
   "metadata": {},
   "outputs": [],
   "source": [
    "# diff = bootstrap_diff()"
   ]
  },
  {
   "cell_type": "code",
   "execution_count": null,
   "metadata": {},
   "outputs": [],
   "source": [
    "# def resposta():\n",
    "#   # retorna True se a diferença puder ser explicada pelo acaso\n",
    "#   # retorna False se houver diferença significativa entre as notas\n",
    "#   df1 = df_1_2\n",
    "#   df2 = df_3_4_5\n",
    "#   size1 = len(df1)\n",
    "#   size2 = len(df2)\n",
    "#   n = 10000\n",
    "#   column = 'G3'\n",
    "#   values1 = np.zeros(n)\n",
    "#   values2 = np.zeros(n)\n",
    "#   values_diff = np.zeros(n)\n",
    "#   for i in range(n):\n",
    "#       sample1 = df1[column].sample(size1, replace=True, random_state=i)\n",
    "#       sample2 = df2[column].sample(size2, replace=True, random_state=i*3)\n",
    "#       values1[i] = sample1.mean()\n",
    "#       values2[i] = sample2.mean()\n",
    "#       values_diff[i] = sample1.mean() - sample2.mean()\n",
    "\n",
    "#   return np.percentile(values_diff, 5) <= 0 <= np.percentile(values_diff, 95)\n",
    "\n",
    "# result = resposta()\n",
    "# result"
   ]
  },
  {
   "cell_type": "markdown",
   "metadata": {},
   "source": [
    "### Conclusão \n",
    "\n",
    "__A abordagem do Teste de Hipótese demonstra que não existe uma relação muito clara entre notas e consumo de álcool, rejeitando a hipótese nula.__"
   ]
  },
  {
   "cell_type": "markdown",
   "metadata": {},
   "source": [
    "# Teste 2\n",
    "\n",
    "Desejamos testar se há uma diferença significativa na média de faltas dos alunos que consomem álcool de 1-2 dias e dos que consomem a partir de 3 dias na semana, a um nível de significância de 5%.\n",
    "\n",
    "#### H0: μ1-2 = μ>=3\n",
    "\n",
    "#### H1: μ1-2 ≠ μ>=3 \n",
    "\n",
    "    Ou ainda\n",
    "\n",
    "#### H0: μ1-2 − μ>=3 = 0 \n",
    "\n",
    "#### H1: μ1-2 − μ>=3 ≠ 0\n",
    "\n",
    "Hipótese nula: Média de faltas dos alunos que consomem álcool de 1-2 dias é igual à dos que consomem a partir de 3 dias na semana\n",
    "\n",
    "Hipótese alternativa: Média de faltas dos alunos que consomem álcool de 1-2 dias é diferente à dos que consomem a partir de 3 dias na semana"
   ]
  },
  {
   "cell_type": "code",
   "execution_count": 4,
   "metadata": {},
   "outputs": [
    {
     "data": {
      "text/plain": [
       "<AxesSubplot:xlabel='age', ylabel='alc_consump'>"
      ]
     },
     "execution_count": 4,
     "metadata": {},
     "output_type": "execute_result"
    },
    {
     "data": {
      "image/png": "[encoded data removed]",
      "text/plain": [
       "<Figure size 1080x648 with 1 Axes>"
      ]
     },
     "metadata": {},
     "output_type": "display_data"
    }
   ],
   "source": [
    "#Consumo de 1 a 2 vezes\n",
    "df1_t2 = alcohol_consumption[alcohol_consumption['Dalc'] < 3]\n",
    "df1_t2\n",
    "\n",
    "df_1_2_t2 = (df1_t2.groupby('age')\n",
    "              .agg({'absences': 'mean', 'Dalc': 'mean'}) \n",
    "              .reset_index()\n",
    "              .rename(columns={'Dalc':'alc_consump'}))\n",
    "\n",
    "df_1_2_t2\n",
    "\n",
    "sns.lineplot(x='age', y='alc_consump', marker='o',\n",
    "                         data=df_1_2_t2, label='Média de consumo de álcool', sort=False)\n",
    "sns.lineplot(x='age', y='absences', marker='o',\n",
    "                         data=df_1_2_t2, label='Média de faltas', sort=False)"
   ]
  },
  {
   "cell_type": "code",
   "execution_count": 5,
   "metadata": {},
   "outputs": [
    {
     "data": {
      "text/plain": [
       "<AxesSubplot:xlabel='age', ylabel='alc_consump'>"
      ]
     },
     "execution_count": 5,
     "metadata": {},
     "output_type": "execute_result"
    },
    {
     "data": {
      "image/png": "[encoded data removed]",
      "text/plain": [
       "<Figure size 1080x648 with 1 Axes>"
      ]
     },
     "metadata": {},
     "output_type": "display_data"
    }
   ],
   "source": [
    "#Consumo de 3 a 5 vezes\n",
    "df2_t2 = alcohol_consumption[alcohol_consumption['Dalc'] > 2]\n",
    "df2_t2\n",
    "\n",
    "df_3_4_5_t2 = (df2_t2.groupby('age')\n",
    "              .agg({'absences': 'mean', 'Dalc': 'mean'}) \n",
    "              .reset_index()\n",
    "              .rename(columns={'Dalc':'alc_consump'}))\n",
    "\n",
    "df_3_4_5_t2\n",
    "\n",
    "sns.lineplot(x='age', y='alc_consump', marker='o',\n",
    "                         data=df_3_4_5_t2, label='Média de consumo de álcool', sort=False)\n",
    "sns.lineplot(x='age', y='absences', marker='o',\n",
    "                         data=df_3_4_5_t2, label='Média de faltas', sort=False)"
   ]
  },
  {
   "cell_type": "code",
   "execution_count": 6,
   "metadata": {},
   "outputs": [
    {
     "name": "stdout",
     "output_type": "stream",
     "text": [
      "( 4.58 , 6.29 )\n"
     ]
    }
   ],
   "source": [
    "#IC para media de faltas de alunos que bebem até 2 vezes nos dias úteis da semana com 95% de confiança\n",
    "media_ate_2_t2 = np.mean(alcohol_consumption.loc[alcohol_consumption['Dalc'] < 3 ,'absences'])\n",
    "desvio_patrao_ate_2 = np.std(alcohol_consumption.loc[alcohol_consumption['Dalc'] < 3,'absences'])\n",
    "\n",
    "z = 1.96\n",
    "CI_inf_ate_2_t2 = media_ate_2_t2 - z*(desvio_patrao_ate_2/np.sqrt(len(alcohol_consumption.loc[alcohol_consumption['Dalc'] < 3])))\n",
    "CI_sup_ate_2_t2 = media_ate_2_t2 + z*(desvio_patrao_ate_2/np.sqrt(len(alcohol_consumption.loc[alcohol_consumption['Dalc'] < 3])))\n",
    "\n",
    "print('(', np.round(CI_inf_ate_2_t2,2), ',',np.round(CI_sup_ate_2_t2,2), ')')"
   ]
  },
  {
   "cell_type": "code",
   "execution_count": 7,
   "metadata": {},
   "outputs": [
    {
     "name": "stdout",
     "output_type": "stream",
     "text": [
      "( 6.09 , 9.68 )\n"
     ]
    }
   ],
   "source": [
    "#IC para media de faltas de alunos que bebem de 3 a 5 vezes nos dias úteis da semana com 95% de confiança\n",
    "media_3_a_5_t2 = np.mean(alcohol_consumption.loc[alcohol_consumption['Dalc'] > 2 ,'absences'])\n",
    "desvio_patrao_3_a_5 = np.std(alcohol_consumption.loc[alcohol_consumption['Dalc'] > 2,'absences'])\n",
    "\n",
    "z = 1.96\n",
    "CI_inf_3_a_5_t2 = media_3_a_5_t2 - z*(desvio_patrao_3_a_5/np.sqrt(len(alcohol_consumption.loc[alcohol_consumption['Dalc'] > 2])))\n",
    "CI_sup_3_a_5_t2 = media_3_a_5_t2 + z*(desvio_patrao_3_a_5/np.sqrt(len(alcohol_consumption.loc[alcohol_consumption['Dalc'] > 2])))\n",
    "\n",
    "print('(', np.round(CI_inf_3_a_5_t2,2), ',',np.round(CI_sup_3_a_5_t2,2), ')')"
   ]
  },
  {
   "cell_type": "code",
   "execution_count": 8,
   "metadata": {},
   "outputs": [
    {
     "data": {
      "text/plain": [
       "([<matplotlib.axis.YTick at 0x1786a4ad5e0>,\n",
       "  <matplotlib.axis.YTick at 0x1786a4ad1c0>],\n",
       " [Text(0, 0, '1 a 2'), Text(0, 1, '>= 3')])"
      ]
     },
     "execution_count": 8,
     "metadata": {},
     "output_type": "execute_result"
    },
    {
     "data": {
      "image/png": "[encoded data removed]",
      "text/plain": [
       "<Figure size 1080x648 with 1 Axes>"
      ]
     },
     "metadata": {},
     "output_type": "display_data"
    }
   ],
   "source": [
    "#Plotando visualização dos intervalos de confiança\n",
    "\n",
    "data_dict = {}\n",
    "data_dict['DALC'] = ['1 a 2','>= 3']\n",
    "data_dict['INFERIOR'] = [CI_inf_ate_2_t2,CI_inf_3_a_5_t2]\n",
    "data_dict['SUPERIOR'] = [CI_sup_ate_2_t2,CI_sup_3_a_5_t2]\n",
    "dataset = pd.DataFrame(data_dict)\n",
    "\n",
    "for INFERIOR,SUPERIOR,y in zip(dataset['INFERIOR'],dataset['SUPERIOR'],range(len(dataset))):\n",
    "    plt.plot((INFERIOR,SUPERIOR),(y,y),'ro-',color='black')\n",
    "plt.yticks(range(len(dataset)),list(dataset['DALC']))"
   ]
  },
  {
   "cell_type": "code",
   "execution_count": 9,
   "metadata": {},
   "outputs": [
    {
     "name": "stdout",
     "output_type": "stream",
     "text": [
      "[4.58 6.29]\n"
     ]
    }
   ],
   "source": [
    "#Conferindo com biblioteca scipy.stats - ate 2\n",
    "ci_ate_2_t2 = st.norm.interval(alpha=0.95, loc=np.mean(alcohol_consumption.loc[alcohol_consumption['Dalc'] < 3 ,'absences']),scale=st.sem(alcohol_consumption.loc[alcohol_consumption['Dalc'] < 3 ,'absences'],ddof=0, nan_policy='omit')) \n",
    "print(np.round(ci_ate_2_t2,2))"
   ]
  },
  {
   "cell_type": "code",
   "execution_count": 10,
   "metadata": {},
   "outputs": [
    {
     "name": "stdout",
     "output_type": "stream",
     "text": [
      "[6.09 9.68]\n"
     ]
    }
   ],
   "source": [
    "#Conferindo com biblioteca scipy.stats - 3 a 5\n",
    "ci_3_a_5_t2 = st.norm.interval(alpha=0.95, loc=np.mean(alcohol_consumption.loc[alcohol_consumption['Dalc'] > 2 ,'absences']),scale=st.sem(alcohol_consumption.loc[alcohol_consumption['Dalc'] > 2 ,'absences'],ddof=0, nan_policy='omit')) \n",
    "print(np.round(ci_3_a_5_t2,2))"
   ]
  },
  {
   "cell_type": "code",
   "execution_count": 11,
   "metadata": {},
   "outputs": [],
   "source": [
    "def bootstrap_mean(df1, df2, column, n=10000):\n",
    "    size1 = len(df1)\n",
    "    size2 = len(df2)\n",
    "    values1 = np.zeros(n)\n",
    "    values2 = np.zeros(n)\n",
    "    values_diff = np.zeros(n)\n",
    "    for i in range(n):\n",
    "        sample1 = df1[column].sample(size1, replace=True, random_state=i)\n",
    "        sample2 = df2[column].sample(size2, replace=True, random_state=i*3)\n",
    "        values1[i] = sample1.mean()\n",
    "        values2[i] = sample2.mean()\n",
    "        values_diff[i] = sample1.mean() - sample2.mean()\n",
    "    return values1, values2, values_diff\n",
    "\n",
    "ate_2_t2 = alcohol_consumption.loc[alcohol_consumption['Dalc'] < 3]\n",
    "maior_igual_3_t2 = alcohol_consumption.loc[alcohol_consumption['Dalc'] > 2]\n",
    "col = 'absences'\n",
    "v_ate_2_t2, v_maior_igual_3_t2, v_diff = bootstrap_mean(ate_2_t2, maior_igual_3_t2, col)"
   ]
  },
  {
   "cell_type": "code",
   "execution_count": 16,
   "metadata": {},
   "outputs": [
    {
     "data": {
      "image/png": "[encoded data removed]",
      "text/plain": [
       "<Figure size 576x432 with 1 Axes>"
      ]
     },
     "metadata": {},
     "output_type": "display_data"
    }
   ],
   "source": [
    "bp_data_t2 = [v_ate_2_t2, v_maior_igual_3_t2]\n",
    "\n",
    "plt.rcParams['figure.figsize']  = (8, 6)\n",
    "plt.boxplot(bp_data_t2, whis=[2.5, 97.5], positions=[1,2], showfliers=False, showmeans=True)\n",
    "plt.xticks([1,2], ['ate 2', 'maior igual 3'], fontsize=10)\n",
    "plt.ylabel('', fontsize=13)\n",
    "plt.xlabel('Dalc', fontsize=12)\n",
    "plt.title('Média de faltas', fontsize=14)\n",
    "plt.show()"
   ]
  },
  {
   "cell_type": "code",
   "execution_count": 13,
   "metadata": {},
   "outputs": [],
   "source": [
    "def percent_t2(df1_t2, df2_t2, column, alpha):\n",
    "  n = 10000\n",
    "  size1 = len(df1_t2)\n",
    "  size2 = len(df2_t2)\n",
    "  values1 = np.zeros(n)\n",
    "  values2 = np.zeros(n)\n",
    "  values_diff = np.zeros(n)\n",
    "\n",
    "  for i in range(n):\n",
    "    sample1 = df1_t2[column].sample(size1, replace=True, random_state=i)\n",
    "    sample2 = df2_t2[column].sample(size2, replace=True, random_state=i*3)\n",
    "    values1[i] = sample1.mean()\n",
    "    values2[i] = sample2.mean()\n",
    "    values_diff[i] = sample1.mean() - sample2.mean()\n",
    "  \n",
    "  a = np.percentile(values_diff, ((alpha*100)/2)).round(4)\n",
    "  b = np.percentile(values_diff, 100-((alpha*100)/2)).round(4)\n",
    "\n",
    "  return a <= 0 <= b"
   ]
  },
  {
   "cell_type": "code",
   "execution_count": 15,
   "metadata": {},
   "outputs": [
    {
     "name": "stdout",
     "output_type": "stream",
     "text": [
      "False\n"
     ]
    }
   ],
   "source": [
    "#Rejeita-se H0.\n",
    "ate_2_t2 = alcohol_consumption.loc[alcohol_consumption['Dalc'] < 3]\n",
    "maior_igual_3_t2 = alcohol_consumption.loc[alcohol_consumption['Dalc'] > 2]\n",
    "col = 'absences'\n",
    "alpha = 0.05\n",
    "result_t2 = percent_t2(ate_2_t2, maior_igual_3_t2, col, alpha)\n",
    "print(result_t2)"
   ]
  },
  {
   "cell_type": "code",
   "execution_count": null,
   "metadata": {},
   "outputs": [],
   "source": [
    "\"\"\"\n",
    "def t_obs_t2():\n",
    "  # deve retornar o valor da estatística de teste\n",
    "  return df_3_4_5_t2['absences'].mean() - df_1_2_t2['absences'].mean()\n",
    "\"\"\""
   ]
  },
  {
   "cell_type": "code",
   "execution_count": null,
   "metadata": {},
   "outputs": [],
   "source": [
    "\"\"\"\n",
    "result = t_obs_t2()\n",
    "result\n",
    "\"\"\""
   ]
  },
  {
   "cell_type": "code",
   "execution_count": null,
   "metadata": {},
   "outputs": [],
   "source": [
    "\"\"\"\n",
    "def shuffling_t2(data):\n",
    "  N = 5000\n",
    "  filtro = data['absences']\n",
    "  t_obs2 = t_obs_t2()\n",
    "  diffs = np.zeros(N)\n",
    "  for i in range(N):\n",
    "    np.random.seed(i)\n",
    "    np.random.shuffle(filtro.values)\n",
    "    diffs[i] = t_obs2\n",
    "  return diffs\n",
    "\n",
    "diffs_t2 = shuffling_t2(alcohol_consumption)\n",
    "\"\"\""
   ]
  },
  {
   "cell_type": "code",
   "execution_count": null,
   "metadata": {},
   "outputs": [],
   "source": [
    "\"\"\"\n",
    "result_t2 = t_obs_t2()\n",
    "foo = p_value(result_t2, diffs_t2)\n",
    "\n",
    "resposta2(diffs_t2, result_t2)\n",
    "\"\"\""
   ]
  },
  {
   "cell_type": "code",
   "execution_count": null,
   "metadata": {},
   "outputs": [],
   "source": []
  }
 ],
 "metadata": {
  "interpreter": {
   "hash": "59efbf1012a0abedd22391f4cee26cedf1d86c7aaab3d3c9b675cae467e671ce"
  },
  "kernelspec": {
   "display_name": "Python 3.8.8 64-bit ('base': conda)",
   "language": "python",
   "name": "python3"
  },
  "language_info": {
   "codemirror_mode": {
    "name": "ipython",
    "version": 3
   },
   "file_extension": ".py",
   "mimetype": "text/x-python",
   "name": "python",
   "nbconvert_exporter": "python",
   "pygments_lexer": "ipython3",
   "version": "3.8.8"
  },
  "orig_nbformat": 4
 },
 "nbformat": 4,
 "nbformat_minor": 2
}
