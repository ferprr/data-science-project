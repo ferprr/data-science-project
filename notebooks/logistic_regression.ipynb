{
 "cells": [
  {
   "cell_type": "code",
   "execution_count": 209,
   "metadata": {},
   "outputs": [],
   "source": [
    "import pandas as pd\n",
    "import matplotlib\n",
    "from matplotlib import pyplot as plt\n",
    "import matplotlib.ticker as ticker\n",
    "import numpy as np\n",
    "#from vega_datasets import data\n",
    "import seaborn as sns\n",
    "import scipy.stats as st\n",
    "import sklearn as sk\n",
    "sns.set()"
   ]
  },
  {
   "cell_type": "code",
   "execution_count": 210,
   "metadata": {},
   "outputs": [],
   "source": [
    "# Tamanho default das figuras\n",
    "matplotlib.rcParams['figure.figsize'] = (15.0, 9.0)"
   ]
  },
  {
   "cell_type": "code",
   "execution_count": 211,
   "metadata": {},
   "outputs": [
    {
     "data": {
      "text/html": [
       "<div>\n",
       "<style scoped>\n",
       "    .dataframe tbody tr th:only-of-type {\n",
       "        vertical-align: middle;\n",
       "    }\n",
       "\n",
       "    .dataframe tbody tr th {\n",
       "        vertical-align: top;\n",
       "    }\n",
       "\n",
       "    .dataframe thead th {\n",
       "        text-align: right;\n",
       "    }\n",
       "</style>\n",
       "<table border=\"1\" class=\"dataframe\">\n",
       "  <thead>\n",
       "    <tr style=\"text-align: right;\">\n",
       "      <th></th>\n",
       "      <th>school</th>\n",
       "      <th>sex</th>\n",
       "      <th>age</th>\n",
       "      <th>address</th>\n",
       "      <th>famsize</th>\n",
       "      <th>Pstatus</th>\n",
       "      <th>Medu</th>\n",
       "      <th>Fedu</th>\n",
       "      <th>Mjob</th>\n",
       "      <th>Fjob</th>\n",
       "      <th>...</th>\n",
       "      <th>famrel</th>\n",
       "      <th>freetime</th>\n",
       "      <th>goout</th>\n",
       "      <th>Dalc</th>\n",
       "      <th>Walc</th>\n",
       "      <th>health</th>\n",
       "      <th>absences</th>\n",
       "      <th>G1</th>\n",
       "      <th>G2</th>\n",
       "      <th>G3</th>\n",
       "    </tr>\n",
       "  </thead>\n",
       "  <tbody>\n",
       "    <tr>\n",
       "      <th>0</th>\n",
       "      <td>GP</td>\n",
       "      <td>F</td>\n",
       "      <td>18</td>\n",
       "      <td>U</td>\n",
       "      <td>GT3</td>\n",
       "      <td>A</td>\n",
       "      <td>4</td>\n",
       "      <td>4</td>\n",
       "      <td>at_home</td>\n",
       "      <td>teacher</td>\n",
       "      <td>...</td>\n",
       "      <td>4</td>\n",
       "      <td>3</td>\n",
       "      <td>4</td>\n",
       "      <td>1</td>\n",
       "      <td>1</td>\n",
       "      <td>3</td>\n",
       "      <td>6</td>\n",
       "      <td>5</td>\n",
       "      <td>6</td>\n",
       "      <td>6</td>\n",
       "    </tr>\n",
       "    <tr>\n",
       "      <th>1</th>\n",
       "      <td>GP</td>\n",
       "      <td>F</td>\n",
       "      <td>17</td>\n",
       "      <td>U</td>\n",
       "      <td>GT3</td>\n",
       "      <td>T</td>\n",
       "      <td>1</td>\n",
       "      <td>1</td>\n",
       "      <td>at_home</td>\n",
       "      <td>other</td>\n",
       "      <td>...</td>\n",
       "      <td>5</td>\n",
       "      <td>3</td>\n",
       "      <td>3</td>\n",
       "      <td>1</td>\n",
       "      <td>1</td>\n",
       "      <td>3</td>\n",
       "      <td>4</td>\n",
       "      <td>5</td>\n",
       "      <td>5</td>\n",
       "      <td>6</td>\n",
       "    </tr>\n",
       "    <tr>\n",
       "      <th>2</th>\n",
       "      <td>GP</td>\n",
       "      <td>F</td>\n",
       "      <td>15</td>\n",
       "      <td>U</td>\n",
       "      <td>LE3</td>\n",
       "      <td>T</td>\n",
       "      <td>1</td>\n",
       "      <td>1</td>\n",
       "      <td>at_home</td>\n",
       "      <td>other</td>\n",
       "      <td>...</td>\n",
       "      <td>4</td>\n",
       "      <td>3</td>\n",
       "      <td>2</td>\n",
       "      <td>2</td>\n",
       "      <td>3</td>\n",
       "      <td>3</td>\n",
       "      <td>10</td>\n",
       "      <td>7</td>\n",
       "      <td>8</td>\n",
       "      <td>10</td>\n",
       "    </tr>\n",
       "    <tr>\n",
       "      <th>3</th>\n",
       "      <td>GP</td>\n",
       "      <td>F</td>\n",
       "      <td>15</td>\n",
       "      <td>U</td>\n",
       "      <td>GT3</td>\n",
       "      <td>T</td>\n",
       "      <td>4</td>\n",
       "      <td>2</td>\n",
       "      <td>health</td>\n",
       "      <td>services</td>\n",
       "      <td>...</td>\n",
       "      <td>3</td>\n",
       "      <td>2</td>\n",
       "      <td>2</td>\n",
       "      <td>1</td>\n",
       "      <td>1</td>\n",
       "      <td>5</td>\n",
       "      <td>2</td>\n",
       "      <td>15</td>\n",
       "      <td>14</td>\n",
       "      <td>15</td>\n",
       "    </tr>\n",
       "    <tr>\n",
       "      <th>4</th>\n",
       "      <td>GP</td>\n",
       "      <td>F</td>\n",
       "      <td>16</td>\n",
       "      <td>U</td>\n",
       "      <td>GT3</td>\n",
       "      <td>T</td>\n",
       "      <td>3</td>\n",
       "      <td>3</td>\n",
       "      <td>other</td>\n",
       "      <td>other</td>\n",
       "      <td>...</td>\n",
       "      <td>4</td>\n",
       "      <td>3</td>\n",
       "      <td>2</td>\n",
       "      <td>1</td>\n",
       "      <td>2</td>\n",
       "      <td>5</td>\n",
       "      <td>4</td>\n",
       "      <td>6</td>\n",
       "      <td>10</td>\n",
       "      <td>10</td>\n",
       "    </tr>\n",
       "  </tbody>\n",
       "</table>\n",
       "<p>5 rows × 33 columns</p>\n",
       "</div>"
      ],
      "text/plain": [
       "  school sex  age address famsize Pstatus  Medu  Fedu     Mjob      Fjob  ...  \\\n",
       "0     GP   F   18       U     GT3       A     4     4  at_home   teacher  ...   \n",
       "1     GP   F   17       U     GT3       T     1     1  at_home     other  ...   \n",
       "2     GP   F   15       U     LE3       T     1     1  at_home     other  ...   \n",
       "3     GP   F   15       U     GT3       T     4     2   health  services  ...   \n",
       "4     GP   F   16       U     GT3       T     3     3    other     other  ...   \n",
       "\n",
       "  famrel freetime  goout  Dalc  Walc health absences  G1  G2  G3  \n",
       "0      4        3      4     1     1      3        6   5   6   6  \n",
       "1      5        3      3     1     1      3        4   5   5   6  \n",
       "2      4        3      2     2     3      3       10   7   8  10  \n",
       "3      3        2      2     1     1      5        2  15  14  15  \n",
       "4      4        3      2     1     2      5        4   6  10  10  \n",
       "\n",
       "[5 rows x 33 columns]"
      ]
     },
     "execution_count": 211,
     "metadata": {},
     "output_type": "execute_result"
    }
   ],
   "source": [
    "# Carregando dataset com os alunos de matematica\n",
    "students_math = pd.read_csv('../databases/student-mat.zip', compression='zip')\n",
    "students_math.head()"
   ]
  },
  {
   "cell_type": "code",
   "execution_count": 212,
   "metadata": {},
   "outputs": [
    {
     "name": "stdout",
     "output_type": "stream",
     "text": [
      "[[18  4  4 ...  0  1  0]\n",
      " [17  1  1 ...  1  1  0]\n",
      " [15  1  1 ...  1  1  0]\n",
      " ...\n",
      " [21  1  1 ...  0  1  0]\n",
      " [18  3  2 ...  1  1  0]\n",
      " [19  1  1 ...  1  1  0]]\n",
      "[1 1 3 1 2 2 1 1 1 1 2 1 3 2 1 2 2 1 4 3 1 1 3 4 1 3 2 4 1 5 4 1 1 1 1 1 1\n",
      " 1 1 1 2 4 1 1 2 1 4 1 2 1 3 1 4 3 4 1 1 1 1 1 3 5 1 4 4 2 5 2 3 3 1 1 4 2\n",
      " 4 3 1 3 1 2 3 2 1 3 3 3 2 3 1 5 3 3 3 1 1 1 1 1 2 1 5 1 1 1 1 1 1 1 5 1 1\n",
      " 1 1 1 1 2 1 1 4 2 2 2 2 4 1 2 1 1 2 5 2 2 3 4 1 1 4 1 3 1 1 2 1 3 2 2 1 1\n",
      " 1 5 5 5 3 1 1 1 3 5 2 4 2 4 4 4 5 1 4 1 1 1 4 1 3 1 1 4 4 4 4 1 3 2 3 3 2\n",
      " 3 2 2 3 5 1 1 5 4 1 1 2 5 3 2 5 3 3 2 1 4 2 1 4 1 2 5 1 4 2 3 4 4 4 1 2 1\n",
      " 1 5 1 1 3 3 5 2 2 1 3 4 1 3 5 1 1 5 4 3 1 2 1 1 1 5 3 4 4 3 5 3 4 2 1 1 2\n",
      " 1 3 1 1 1 1 4 4 2 3 2 3 3 1 2 1 3 1 4 1 2 4 4 1 1 2 2 2 1 3 1 4 2 1 1 1 3\n",
      " 3 2 1 2 1 2 1 2 1 1 1 1 2 3 2 1 2 2 1 1 2 1 5 3 2 1 2 3 3 2 5 5 3 2 4 1 1\n",
      " 1 1 3 2 3 1 3 3 2 3 2 2 3 2 3 3 5 3 3 3 3 3 1 2 2 2 1 4 3 3 1 2 4 2 2 2 2\n",
      " 1 3 1 3 1 2 1 4 2 3 4 3 1 3 3 3 2 2 1 1 5 4 3 4 3]\n"
     ]
    }
   ],
   "source": [
    "# Vamos usar o conjunto dos alunos de matematica como os dados de treino para o modelo\n",
    "students_math = pd.get_dummies(students_math)\n",
    "\n",
    "y = students_math[['Walc']].to_numpy()\n",
    "y = y.reshape(y.shape[0],)\n",
    "\n",
    "students_math = students_math.drop(columns=['Dalc', 'Walc'])\n",
    "\n",
    "X = students_math.to_numpy()\n",
    "\n",
    "print(X)\n",
    "print(y)"
   ]
  },
  {
   "cell_type": "code",
   "execution_count": 213,
   "metadata": {},
   "outputs": [
    {
     "name": "stdout",
     "output_type": "stream",
     "text": [
      "[[18  4  4 ...  0  1  0]\n",
      " [17  1  1 ...  1  1  0]\n",
      " [15  1  1 ...  1  1  0]\n",
      " ...\n",
      " [18  1  1 ...  0  1  0]\n",
      " [17  3  1 ...  1  1  0]\n",
      " [18  3  2 ...  1  1  0]]\n",
      "[1 1 3 1 2 2 1 1 1 1 2 1 3 2 1 2 2 1 4 3 1 1 3 4 1 3 2 4 1 5 4 1 1 1 1 1 1\n",
      " 1 1 1 2 4 1 1 2 1 4 1 2 1 3 1 4 3 4 1 1 1 1 1 3 5 1 4 4 2 5 2 3 3 1 1 4 2\n",
      " 4 3 1 3 1 2 3 2 1 3 3 3 2 3 1 5 3 3 3 1 1 1 1 1 2 1 5 1 1 1 1 1 1 1 5 1 1\n",
      " 1 1 1 1 2 1 1 4 2 2 2 2 4 1 2 1 1 5 2 2 3 2 2 3 4 1 1 1 1 4 1 5 1 2 1 3 1\n",
      " 1 1 3 3 2 1 3 2 2 1 1 1 4 1 5 5 5 3 1 1 1 3 5 2 4 5 2 4 4 4 5 1 4 1 1 1 4\n",
      " 1 3 1 1 4 4 4 4 1 3 2 3 3 2 3 2 2 3 5 1 1 5 4 1 1 2 5 3 2 5 3 3 2 1 4 2 1\n",
      " 4 1 2 5 1 4 2 3 4 4 4 1 2 1 1 5 1 1 3 3 5 2 2 1 3 4 1 3 5 1 2 1 1 1 2 2 1\n",
      " 2 2 1 1 5 1 3 1 4 3 1 2 4 1 3 1 1 1 2 1 5 3 4 4 3 5 3 4 2 3 1 1 4 3 3 1 1\n",
      " 2 1 1 2 3 1 1 1 1 3 4 4 2 3 2 3 3 1 2 2 1 3 1 4 1 1 3 2 4 4 4 1 1 2 1 2 2\n",
      " 1 3 1 4 2 1 1 3 3 2 1 2 1 2 1 1 2 1 1 2 2 2 1 1 1 4 5 1 1 3 1 2 2 1 2 4 3\n",
      " 1 4 1 2 3 3 2 2 5 5 3 2 5 4 2 1 1 2 1 1 1 3 3 1 3 2 3 2 2 3 2 3 3 2 4 4 1\n",
      " 1 3 4 3 2 1 2 3 4 2 2 5 4 3 1 2 3 1 1 3 2 1 3 1 2 2 5 1 2 2 2 3 1 5 4 2 2\n",
      " 2 4 1 5 1 1 2 1 1 2 2 3 1 5 1 1 1 3 2 2 4 3 3 1 2 1 1 3 1 3 5 1 1 4 1 1 1\n",
      " 1 3 2 2 2 4 1 1 4 1 1 1 5 3 1 2 4 1 2 5 5 5 1 1 2 4 1 2 1 1 1 1 3 4 4 3 4\n",
      " 3 1 3 1 2 5 1 2 2 2 2 2 5 3 4 1 5 3 3 2 2 2 2 1 4 3 3 4 1 1 2 3 2 2 4 1 2\n",
      " 1 4 1 5 1 3 4 1 3 3 4 3 2 1 3 4 3 1 2 4 4 5 3 3 3 3 1 1 1 1 2 3 2 1 1 2 1\n",
      " 1 2 2 1 2 1 5 1 4 1 4 1 2 3 1 2 2 1 4 1 3 1 2 2 2 1 4 3 1 2 4 2 2 2 2 3 1\n",
      " 3 1 2 1 4 2 3 4 3 1 3 3 3 1 2 2 1 1 4 4]\n"
     ]
    }
   ],
   "source": [
    "# Carregando dataset com os alunos de portugues\n",
    "students_por = pd.read_csv('../databases/student-por.zip', compression='zip')\n",
    "students_por.head()\n",
    "\n",
    "# Vamos usar o conjunto dos alunos de portugues como os dados de teste para o modelo\n",
    "students_por = pd.get_dummies(students_por)\n",
    "\n",
    "y_pt = students_por[['Walc']].to_numpy()\n",
    "y_pt = y_pt.reshape(y_pt.shape[0],)\n",
    "\n",
    "students_por = students_por.drop(columns=['Dalc', 'Walc'])\n",
    "\n",
    "X_pt = students_por.to_numpy()\n",
    "\n",
    "print(X_pt)\n",
    "print(y_pt)"
   ]
  },
  {
   "cell_type": "code",
   "execution_count": 214,
   "metadata": {},
   "outputs": [
    {
     "name": "stdout",
     "output_type": "stream",
     "text": [
      "[1 1 1 1 1 1 3 1 1 1 1 1 4 1 1 3 1 1 4 4 1 1 1 1 1 2 1 3 1 5 1 1 1 1 1 1 1\n",
      " 1 1 1 1 3 1 1 1 1 4 1 1 1 1 1 4 1 1 1 1 1 1 2 3 5 1 1 1 1 1 1 3 1 1 1 3 1\n",
      " 1 1 1 1 1 1 1 1 3 1 1 1 1 1 1 1 1 3 1 1 1 1 4 1 1 1 4 1 4 1 1 1 1 1 5 1 1\n",
      " 1 1 3 1 1 1 1 5 4 2 1 1 4 1 4 1 1 4 1 1 1 2 1 3 2 1 1 1 1 4 1 5 1 3 1 3 1\n",
      " 1 1 1 1 3 1 3 4 1 1 1 1 5 1 4 5 5 1 1 1 4 4 5 2 3 5 5 1 4 1 5 1 4 1 2 1 5\n",
      " 1 4 5 3 4 3 4 3 1 1 1 1 1 2 3 3 1 1 4 1 1 5 2 2 1 1 5 1 1 1 1 1 2 1 1 1 1\n",
      " 1 1 1 3 1 3 2 3 3 4 3 1 2 1 1 2 1 1 1 3 1 1 2 1 1 3 1 1 1 1 1 1 1 1 1 2 1\n",
      " 1 1 2 4 3 2 1 1 4 4 4 1 1 3 1 1 1 1 2 1 3 2 2 4 1 5 2 2 3 1 1 2 5 1 1 3 1\n",
      " 1 1 1 3 2 1 1 1 1 4 5 1 2 3 3 3 3 1 1 3 1 1 1 4 1 1 3 2 5 4 4 1 1 3 1 2 1\n",
      " 1 1 1 1 1 1 1 3 3 3 1 2 1 2 1 1 1 1 1 3 1 1 1 2 1 3 2 2 1 2 1 1 1 1 1 4 5\n",
      " 1 2 1 1 1 1 1 1 5 5 1 1 2 4 5 1 1 2 1 1 1 4 1 1 1 2 1 1 1 1 1 1 1 1 3 4 2\n",
      " 1 5 5 3 1 1 3 3 3 3 3 2 3 1 1 1 3 3 3 3 1 3 1 1 3 3 2 1 3 3 3 3 2 1 4 3 3\n",
      " 4 5 1 5 1 2 3 3 3 1 1 1 3 3 1 3 3 2 1 3 4 3 2 2 3 1 3 3 1 3 5 1 3 2 3 1 3\n",
      " 1 1 3 1 3 3 1 1 3 2 3 1 5 3 3 3 1 1 3 3 4 5 1 3 3 3 3 5 1 1 3 3 2 2 3 3 3\n",
      " 2 1 1 3 1 1 1 3 3 1 3 2 3 1 3 3 2 5 1 4 3 3 1 3 1 4 2 3 1 2 1 1 2 2 3 1 3\n",
      " 3 4 1 5 1 5 1 3 2 4 4 3 2 1 5 3 5 1 1 3 3 4 3 3 3 3 1 5 3 3 1 1 3 1 3 1 3\n",
      " 1 1 2 3 1 2 5 5 5 2 3 2 1 3 1 1 1 1 1 1 5 3 2 2 3 2 3 1 1 2 5 2 2 2 2 5 1\n",
      " 3 3 1 3 3 2 3 3 3 3 3 3 3 3 1 1 3 2 5 2]\n"
     ]
    },
    {
     "name": "stderr",
     "output_type": "stream",
     "text": [
      "C:\\Users\\diego\\anaconda3\\lib\\site-packages\\sklearn\\linear_model\\_logistic.py:763: ConvergenceWarning: lbfgs failed to converge (status=1):\n",
      "STOP: TOTAL NO. of ITERATIONS REACHED LIMIT.\n",
      "\n",
      "Increase the number of iterations (max_iter) or scale the data as shown in:\n",
      "    https://scikit-learn.org/stable/modules/preprocessing.html\n",
      "Please also refer to the documentation for alternative solver options:\n",
      "    https://scikit-learn.org/stable/modules/linear_model.html#logistic-regression\n",
      "  n_iter_i = _check_optimize_result(\n"
     ]
    }
   ],
   "source": [
    "from sklearn.linear_model import LogisticRegression\n",
    "from sklearn.datasets import load_iris\n",
    "\n",
    "clf = LogisticRegression(random_state=0).fit(X, y)\n",
    "print(clf.predict(X_pt))\n",
    "students_por['Walc_actual'] = y_pt\n",
    "students_por['Walc_predicted'] = clf.predict(X_pt)\n",
    "students_por['index'] = students_por.index"
   ]
  },
  {
   "cell_type": "code",
   "execution_count": 215,
   "metadata": {},
   "outputs": [
    {
     "data": {
      "text/plain": [
       "0.4453004622496148"
      ]
     },
     "execution_count": 215,
     "metadata": {},
     "output_type": "execute_result"
    }
   ],
   "source": [
    "clf.score(X_pt, y_pt)\n",
    "# aprox 0.45, não muito bom"
   ]
  },
  {
   "cell_type": "code",
   "execution_count": 216,
   "metadata": {},
   "outputs": [
    {
     "data": {
      "image/png": "[encoded data removed]",
      "text/plain": [
       "<Figure size 1080x648 with 1 Axes>"
      ]
     },
     "metadata": {},
     "output_type": "display_data"
    }
   ],
   "source": [
    "# Pedaco dos dados (40 deles) com o valor real (azul) e o predito (amarelo) pelo modelo (as bolinhas verde são os casos de acerto)\n",
    "plt.scatter(students_por['index'][0:40], students_por['Walc_actual'][0:40], color='blue', alpha=0.5, edgecolors='k', s=70)\n",
    "plt.scatter(students_por['index'][0:40], students_por['Walc_predicted'][0:40], color='yellow', alpha=0.5, edgecolors='k', s=70)\n",
    "plt.show()"
   ]
  },
  {
   "cell_type": "code",
   "execution_count": null,
   "metadata": {},
   "outputs": [],
   "source": []
  }
 ],
 "metadata": {
  "interpreter": {
   "hash": "7bdadbcc745afc9ac1e1714124e1bb5770ee7d86d26de672bb194e9104174d2a"
  },
  "kernelspec": {
   "display_name": "Python 3.8.8 64-bit ('base': conda)",
   "language": "python",
   "name": "python3"
  },
  "language_info": {
   "codemirror_mode": {
    "name": "ipython",
    "version": 3
   },
   "file_extension": ".py",
   "mimetype": "text/x-python",
   "name": "python",
   "nbconvert_exporter": "python",
   "pygments_lexer": "ipython3",
   "version": "3.8.8"
  },
  "orig_nbformat": 4
 },
 "nbformat": 4,
 "nbformat_minor": 2
}
