{
 "cells": [
  {
   "cell_type": "markdown",
   "metadata": {},
   "source": [
    "# ICD - Projeto Final: Student Alcohol Consumption\n",
    "\n",
    "## By:\n",
    "     Fernanda Carolina da Silva Pereira \n",
    "     Euller Saez Lage Silva \n",
    "     Diego Pereira\n",
    "     \n",
    "## External info:\n",
    "    \n",
    "[Link p/ Video](https://bit.ly/video-apresentacao-ICD-21-2)\n",
    "\n",
    "[Repositório no Github](https://github.com/ferprr/data-science-project)"
   ]
  },
  {
   "cell_type": "markdown",
   "metadata": {},
   "source": [
    "## Introdução\n",
    "\n",
    "Neste trabalho vamos analisar características que se relacionam ao consumo de álcool de estudantes do Ensino Médio.\n",
    "\n",
    "## Motivação\n",
    "\n",
    "Entender como o consumo de álcool pode afetar o desempenho dos estudantes de diferentes idades."
   ]
  },
  {
   "cell_type": "markdown",
   "metadata": {},
   "source": [
    "## Dados Utilizados\n",
    "\n",
    "Para a realização deste projeto, foi necessário utilizar alguns conjuntos de dados de domínio público. Nesta seção iremos entrar em mais detalhes sobre as bases utilizadas.\n",
    "\n",
    "### Alcohol Consumption\n",
    "\n",
    "**Descrição:** Conjunto de dados contendo informações sobre consumo de álcool entre estudantes de 15 a 22 anos em Portugal. Inclui informações sobre notas, estrutura familiar, faltas, reprovações, idade e gênero binário dos participantes.\n",
    "\n",
    "**Fonte:** [Alcohol Consumption] (https://www.kaggle.com/uciml/student-alcohol-consumption)"
   ]
  },
  {
   "cell_type": "markdown",
   "metadata": {},
   "source": [
    "## Perguntas\n",
    "\n",
    "### 1 - Qual a influência do consumo de álcool nas notas dos alunos?\n",
    "\n",
    "\n",
    "### 2 - Qual a  influência do consumo de álcool nas faltas dos alunos na escola?\n",
    "\n",
    "\n",
    "### 3 - Qual a influência da quantidade de tempo livre no consumo de álcool dos alunos?"
   ]
  },
  {
   "cell_type": "markdown",
   "metadata": {},
   "source": [
    "## Limpeza dos Dados\n",
    "\n",
    "As bases de dados selecionadas possuem alguns dados nos quais não estamos interessados e que podemos remover para melhorar o desempenho e facilitar o trabalho."
   ]
  },
  {
   "cell_type": "code",
   "execution_count": null,
   "metadata": {},
   "outputs": [],
   "source": [
    "import pandas as pd\n",
    "import matplotlib\n",
    "from matplotlib import pyplot as plt\n",
    "import matplotlib.ticker as ticker\n",
    "import numpy as np\n",
    "import seaborn as sns\n",
    "sns.set()\n",
    "\n",
    "# Tamanho default das figuras\n",
    "matplotlib.rcParams['figure.figsize'] = (15.0, 9.0)\n",
    "\n",
    "# Carregando dataset\n",
    "alcohol_consumption = pd.read_csv('../databases/student-mat.zip', compression='zip')\n",
    "\n",
    "# Definindo a chave \"aluno\"\n",
    "alcohol_consumption_aux = alcohol_consumption\n",
    "alcohol_consumption_aux.insert(loc=0, column='aluno', value=alcohol_consumption_aux.set_index([\"school\",\"sex\",\"age\",\"address\",\"famsize\",\"Pstatus\",\"Medu\",\"Fedu\",\"Mjob\",\"Fjob\",\"reason\",\"nursery\",\"internet\"]).index.factorize()[0]+1)\n",
    "\n",
    "# Removendo alunos duplicados\n",
    "alcohol_consumption_aux.drop_duplicates(subset=['aluno'])\n",
    "\n",
    "# Drop missing values\n",
    "alcohol_consumption_aux.dropna(inplace=True)\n",
    "alcohol_consumption_aux.reset_index(drop=True, inplace=True)\n",
    "\n",
    "alcohol_consumption = alcohol_consumption_aux\n",
    "alcohol_consumption"
   ]
  },
  {
   "cell_type": "markdown",
   "metadata": {},
   "source": [
    "### Legenda para colunas do dataset\n",
    "\n",
    "\n",
    "- school - estudantes (binário: 'GP' - Gabriel Pereira ou 'MS' - Mousinho da Silveira)\n",
    "- sex - sexo (binário: 'F' - feminino ou 'M' - masculino)\n",
    "- age - idade (numérico: de 15 a 22)\n",
    "- address - tipo de endereço de casa (binário: 'U' - urbano ou 'R' - rural)\n",
    "- famsize - tamanho  da família (binário: 'LE3' - menor ou igual a 3 ou 'GT3' - maior que 3)\n",
    "- Pstatus - estado de coabitação dos pais (binário: 'T' - vivendo juntos ou 'A' - separados)\n",
    "- Medu - educação da mãe (numérico: 0 - nenhum, 1 - educação primária (4 ano), 2 – 5 a 9 ano, 3 – educação secundária ou 4 – ensino superior)\n",
    "- Fedu - educação do pai  (numérico: 0 - nenhum, 1 - educação primária (4 ano), 2 – 5 a 9 ano, 3 – educação secundária ou 4 – ensino superior)\n",
    "- Mjob - trabalho da mãe (nominal: 'teacher', 'health' care related, civil 'services' (e.g. administrative or police), 'at_home' or 'other') \n",
    "- Fjob - trabalho do pai (nominal: 'teacher', 'health' care related, civil 'services' (e.g. administrative or police), 'at_home' or 'other') \n",
    "- reason - razão para escolher esta escola (nominal: close to 'home', school 'reputation', 'course' preference or 'other') \n",
    "- guardian - responsável pelo aluno (nominal: 'mother', 'father' ou 'other')\n",
    "- traveltime - tempo de viagem de casa para escola (numérico: 1 - <15 min., 2 - 15 a 30 min., 3 - 30 min. a 1 hour, ou 4 - >1 hora)\n",
    "- studytime - tempo de estudo semanal (numérico: 1 - <2 horas, 2 - 2 a 5 horas, 3 - 5 a 10 horas, ou 4 - >10 horas)\n",
    "- failures - número de reprovações em aulas anteriores (numérico: n se 1<=n<3, se não, 4)\n",
    "- schoolsup - apoio educacional extra (binário: sim ou não)\n",
    "- famsup - apoio educacional familiar (binário: sim ou não)\n",
    "- paid - aulas extras pagas dentro da disciplina do curso (Matemática ou Português) (binário: sim ou não)\n",
    "- activities - atividades extra-curriculares (binário: sim ou não)\n",
    "- nursery - frequentou a creche (binário: sim ou não)\n",
    "- higher - quer fazer ensino superior (binário: sim ou não)\n",
    "- internet - acesso à nternet em casa (binário: sim ou não)\n",
    "- romantic - em relacionamento amoroso (binário: sim ou não)\n",
    "- famrel - qualidade das relações familiares (numérico: de 1 - muito ruim a 5 - excelente)\n",
    "- freetime - tempo livre após escola (numérico: de 1 - muito baixo a 5 - muito alto)\n",
    "- goout - saídas com amigos (numérico: de 1 - muito baixo a 5 - muito alto)\n",
    "- Dalc - consumo de álcool em dias úteis (numérico: de 1 - muito baixo a 5 - muito alto)\n",
    "- Walc - consumo de álcool em finais de semana (numérico: de 1 - muito baixo a 5 - muito alto)\n",
    "- health - situação de saúde atual (numérico: de 1 - muito ruim a 5 - excelente)\n",
    "- absences - número de faltas (numérico: de 0 a 93)\n",
    "\n",
    "Notas relacionadas às disciplinas Matemática ou Português:\n",
    "\n",
    "- G1 - nota do primeiro período (numérico: de 0 a 20)\n",
    "- G2 - nota do segundo período  (numérico: de 0 a 20)\n",
    "- G3 - nota final (numérico: de 0 a 20, output target)\n"
   ]
  },
  {
   "cell_type": "markdown",
   "metadata": {},
   "source": [
    "## Análise Exploratória"
   ]
  },
  {
   "cell_type": "markdown",
   "metadata": {},
   "source": [
    "### Média de consumo de álcool por idade\n",
    "\n",
    "Gráfico do nível consumo de álcool - de 1 (muito baixo) a 5 (muito alto) - por idade."
   ]
  },
  {
   "cell_type": "code",
   "execution_count": null,
   "metadata": {},
   "outputs": [],
   "source": [
    "alcohol_consumption.groupby('age', as_index=False)[['Dalc', 'Walc']].aggregate('mean').plot.line(x='age')\n"
   ]
  },
  {
   "cell_type": "markdown",
   "metadata": {},
   "source": [
    "### Consumo de álcool por sexo"
   ]
  },
  {
   "cell_type": "markdown",
   "metadata": {},
   "source": [
    "Gráfico do nível consumo de álcool - de 1 (muito baixo) a 5 (muito alto) - para o sexo feminino e masculino."
   ]
  },
  {
   "cell_type": "code",
   "execution_count": null,
   "metadata": {},
   "outputs": [],
   "source": [
    "alcohol_consumption.groupby('sex')[['Dalc', 'Walc']].aggregate('mean').plot.bar(by='sex', stacked=True)"
   ]
  },
  {
   "cell_type": "markdown",
   "metadata": {},
   "source": [
    "### Idade dos envolvidos"
   ]
  },
  {
   "cell_type": "markdown",
   "metadata": {},
   "source": [
    "Gráfico para o intervalo de idade dos participantes."
   ]
  },
  {
   "cell_type": "code",
   "execution_count": null,
   "metadata": {},
   "outputs": [],
   "source": [
    "ax = sns.catplot(x=\"sex\", y=\"age\",\n",
    "            kind=\"boxen\", data=alcohol_consumption)\n",
    "\n",
    "# Limita os valores dos eixos\n",
    "ax.set(ylim=(10, 25))\n",
    "\n",
    "plt.show()"
   ]
  },
  {
   "cell_type": "markdown",
   "metadata": {},
   "source": [
    "### Consumo de álcool por status de coabitação dos pais\n",
    "\n",
    "Boxplots no consumo de álcool em dias de semana e finais e semana tanto para pais separados (A) e que moram juntos (T)."
   ]
  },
  {
   "cell_type": "code",
   "execution_count": null,
   "metadata": {},
   "outputs": [],
   "source": [
    "# Boxplot dos valores\n",
    "alcohol_consumption.boxplot(column=['Dalc', 'Walc'], by='Pstatus')"
   ]
  },
  {
   "cell_type": "markdown",
   "metadata": {},
   "source": [
    "Comparação da média de consumo de álcool entre alunos com pais que moram juntos ou separados, para consumo em dias da semana e finais de semana."
   ]
  },
  {
   "cell_type": "code",
   "execution_count": null,
   "metadata": {},
   "outputs": [],
   "source": [
    "# Gráfico de barras com a média para consumos \n",
    "alcohol_consumption.groupby('Pstatus')[['Dalc', 'Walc']].aggregate('mean').plot.bar(by='Pstatus', stacked=True)"
   ]
  },
  {
   "cell_type": "markdown",
   "metadata": {},
   "source": [
    "### Consumo de álcool para frequência que um aluno sai com os amigos\n",
    "\n",
    "Para cada nível de frequência que um aluno sai com seus amigos, verificamos a distribuição do consumos de álcool entre os alunos que se encaixam no grupo através de um boxplot."
   ]
  },
  {
   "cell_type": "code",
   "execution_count": null,
   "metadata": {},
   "outputs": [],
   "source": [
    "alcohol_consumption.boxplot(column=['Dalc', 'Walc'], by='goout')"
   ]
  },
  {
   "cell_type": "markdown",
   "metadata": {},
   "source": [
    "Verificamos como a média do consumo de álcool varia em relação a quanto um aluno sai com seus amigos."
   ]
  },
  {
   "cell_type": "code",
   "execution_count": null,
   "metadata": {},
   "outputs": [],
   "source": [
    "alcohol_consumption.groupby('goout', as_index=False)[['Dalc', 'Walc']].aggregate('mean').plot.line(x='goout')"
   ]
  },
  {
   "cell_type": "markdown",
   "metadata": {},
   "source": [
    "..."
   ]
  },
  {
   "cell_type": "markdown",
   "metadata": {},
   "source": [
    "## Testes de Hipótese e Intervalo de Confiança"
   ]
  },
  {
   "cell_type": "markdown",
   "metadata": {},
   "source": [
    "..."
   ]
  }
 ],
 "metadata": {
  "interpreter": {
   "hash": "59efbf1012a0abedd22391f4cee26cedf1d86c7aaab3d3c9b675cae467e671ce"
  },
  "kernelspec": {
   "display_name": "Python 3.8.8 64-bit ('base': conda)",
   "language": "python",
   "name": "python3"
  },
  "language_info": {
   "codemirror_mode": {
    "name": "ipython",
    "version": 3
   },
   "file_extension": ".py",
   "mimetype": "text/x-python",
   "name": "python",
   "nbconvert_exporter": "python",
   "pygments_lexer": "ipython3",
   "version": "3.8.8"
  },
  "orig_nbformat": 4
 },
 "nbformat": 4,
 "nbformat_minor": 2
}
