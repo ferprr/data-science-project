{
 "cells": [
  {
   "cell_type": "markdown",
   "metadata": {},
   "source": [
    "# ICD - Projeto Final: Student Alcohol Consumption\n",
    "\n",
    "## By:\n",
    "     Fernanda Carolina da Silva Pereira \n",
    "     Euller Saez Lages Silva \n",
    "     Davi Vale \n",
    "     Diego Pereira\n",
    "     \n",
    "## External info:\n",
    "    \n",
    "    Link Video: \n",
    "\n",
    "    [Github] (https://github.com/ferprr/data-science-project)"
   ]
  },
  {
   "cell_type": "markdown",
   "metadata": {},
   "source": [
    "Esse relatório foi criado utilizando o Notebook relatorio, presente na pasta notebooks.\n",
    "Além disso, todos os notebooks utilizados para gerar os resultados aqui presentes podem ser encontrados na mesma pasta.\n",
    "\n",
    "## Introdução\n",
    "\n",
    "Neste trabalho vamos analisar características que se relacionam ao consumo de álcool de estudantes do Ensino Médio.\n",
    "\n",
    "## Motivação\n",
    "\n",
    "-TODO-"
   ]
  },
  {
   "cell_type": "markdown",
   "metadata": {},
   "source": [
    "## Perguntas\n",
    "\n",
    "1 - Qual a influência do consumo de álcool nas notas dos alunos? \n",
    "\n",
    "\n",
    "2 - Qual a influência da escolaridade dos pais no consumo de álcool dos alunos?\n",
    "\n",
    "\n",
    "3 - Qual a  influência do consumo de álcool nas faltas dos alunos na escola?\n",
    "\n",
    "\n",
    "4 - Qual a influência do status de coabitação no consumo de álcool?\n",
    "\n",
    "\n",
    "5 - Qual a influência da quantidade de tempo livre no consumo de álcool dos alunos?\n",
    "\n",
    "\n",
    "6 - Qual a influência da frequência de saídas com os amigos no consumo de álcool dos alunos?\n",
    "\n",
    "\n",
    "7 - Qual a influência da qualidade da relação dos alunos com a família no consumo de álcool dos alunos?\n"
   ]
  }
 ],
 "metadata": {
  "interpreter": {
   "hash": "59efbf1012a0abedd22391f4cee26cedf1d86c7aaab3d3c9b675cae467e671ce"
  },
  "kernelspec": {
   "display_name": "Python 3.8.8 64-bit ('base': conda)",
   "language": "python",
   "name": "python3"
  },
  "language_info": {
   "name": "python",
   "version": "3.8.8"
  },
  "orig_nbformat": 4
 },
 "nbformat": 4,
 "nbformat_minor": 2
}
