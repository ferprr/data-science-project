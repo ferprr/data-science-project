{
 "cells": [
  {
   "cell_type": "markdown",
   "metadata": {},
   "source": [
    "# ICD - Projeto Final: Student Alcohol Consumption\n",
    "\n",
    "## By:\n",
    "     Fernanda Carolina da Silva Pereira \n",
    "     Euller Saez Lages Silva \n",
    "     Diego Pereira\n",
    "     \n",
    "## External info:\n",
    "    \n",
    "    Link Video: \n",
    "\n",
    "    [Github] (https://github.com/ferprr/data-science-project)"
   ]
  },
  {
   "cell_type": "markdown",
   "metadata": {},
   "source": [
    "Esse relatório foi criado utilizando o Notebook relatorio, presente na pasta notebooks.\n",
    "Além disso, todos os notebooks utilizados para gerar os resultados aqui presentes podem ser encontrados na mesma pasta.\n",
    "\n",
    "## Introdução\n",
    "\n",
    "Neste trabalho vamos analisar características que se relacionam ao consumo de álcool de estudantes do Ensino Médio.\n",
    "\n",
    "## Motivação\n",
    "\n",
    "-TODO-"
   ]
  },
  {
   "cell_type": "markdown",
   "metadata": {},
   "source": [
    "## Perguntas\n",
    "\n",
    "### 1 - Qual a influência do consumo de álcool nas notas dos alunos? (Fernanda)\n",
    "\n",
    "\n",
    "### 2 - Qual a  influência do consumo de álcool nas faltas dos alunos na escola? (Euller)\n",
    "\n",
    "\n",
    "### 3 - Qual a influência da quantidade de tempo livre no consumo de álcool dos alunos?\n",
    "\n",
    "\n",
    "### 4 - Qual a influência da qualidade da relação dos alunos com a família no consumo de álcool dos alunos?\n"
   ]
  },
  {
   "cell_type": "markdown",
   "metadata": {},
   "source": [
    "## Dados Utilizados\n",
    "\n",
    "Para a realização deste projeto, foi necessário utilizar alguns conjuntos de dados de domínio público. Nesta seção iremos entrar em mais detalhes sobre as bases utilizadas.\n",
    "\n",
    "### Alcohol Consumption\n",
    "\n",
    "**Descrição:** Conjunto de dados contendo informações sobre consumo de álcool entre estudantes de 15 a 22 anos em Portugal. Inclui informações sobre notas, estrutura familiar, faltas, reprovações, idade e gênero binário dos participantes.\n",
    "\n",
    "**Fonte:** [Alcohol Consumption] (https://www.kaggle.com/uciml/student-alcohol-consumption)"
   ]
  },
  {
   "cell_type": "markdown",
   "metadata": {},
   "source": [
    "## Limpeza dos Dados\n",
    "\n",
    "As bases de dados selecionadas possuem alguns dados nos quais não estamos interessados e que podemos remover para melhorar o desempenho e facilitar o trabalho."
   ]
  },
  {
   "cell_type": "markdown",
   "metadata": {},
   "source": [
    "## Análise Exploratória"
   ]
  },
  {
   "cell_type": "markdown",
   "metadata": {},
   "source": [
    "..."
   ]
  },
  {
   "cell_type": "markdown",
   "metadata": {},
   "source": [
    "## Testes de Hipótese e Intervalo de Confiança"
   ]
  },
  {
   "cell_type": "markdown",
   "metadata": {},
   "source": [
    "..."
   ]
  }
 ],
 "metadata": {
  "interpreter": {
   "hash": "59efbf1012a0abedd22391f4cee26cedf1d86c7aaab3d3c9b675cae467e671ce"
  },
  "kernelspec": {
   "display_name": "Python 3.8.8 64-bit ('base': conda)",
   "language": "python",
   "name": "python3"
  },
  "language_info": {
   "name": "python",
   "version": "3.8.8"
  },
  "orig_nbformat": 4
 },
 "nbformat": 4,
 "nbformat_minor": 2
}
